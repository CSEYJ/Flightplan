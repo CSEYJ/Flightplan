{
 "cells": [
  {
   "cell_type": "code",
   "execution_count": null,
   "metadata": {},
   "outputs": [],
   "source": [
    "import csv\n",
    "import sys\n",
    "import matplotlib.pyplot as plt\n",
    "\n",
    "rec_values = [[],[]]\n",
    "title = ''\n"
   ]
  },
  {
   "cell_type": "code",
   "execution_count": null,
   "metadata": {},
   "outputs": [],
   "source": [
    "def plot(rec_values, title, xlabel, ylabel):\n",
    "\n",
    "    plt.figure()\n",
    "    plt.plot(rec_values[0], rec_values[1], 'bo--', label='experiment values')\n",
    "    plt.plot(rec_values[0], rec_values[0], 'ro--', label='45 deg slope')\n",
    "    plt.legend(loc='upper left')\n",
    "    plt.xlabel(xlabel)\n",
    "    plt.ylabel(ylabel)\n",
    "    plt.title(title)\n",
    "    savefile = title + '_tput.png'\n",
    "    plt.savefig(savefile)\n"
   ]
  },
  {
   "cell_type": "code",
   "execution_count": null,
   "metadata": {},
   "outputs": [],
   "source": [
    "def read_tput(row):\n",
    "\n",
    "    global title\n",
    "    global rec_values\n",
    "    if(row[0] != ''):\n",
    "        if(len(rec_values[0]) != 0 and len(rec_values[1]) != 0):\n",
    "            plot(rec_values, title, 'input rate', 'output rate')\n",
    "            rec_values = [[],[]]\n",
    "            print(row[0])\n",
    "            print(row[1])\n",
    "\n",
    "        title = row[0] + ' ' + row[1]\n",
    "\n",
    "        if(row[3] != '' and row[5] != '' and row[5] != 'NA'):\n",
    "            #To remove 'M' and 'G' representing Mega and Giga\n",
    "            if(row[3].find('M') != -1):\n",
    "                row[3] = row[3][:row[3].find('M')]\n",
    "                irate = float(row[3])\n",
    "                print(str(irate))\n",
    "            if(row[3].find('G') != -1):\n",
    "                row[3] = row[3][:row[3].find('G')]\n",
    "                irate = float(row[3]) * 1000\n",
    "                print(str(irate))\n",
    "\n",
    "            rec_values[0].append(irate)\n",
    "            if(row[5].find('M') != -1):\n",
    "                row[5] = row[5][:row[5].find('M')]\n",
    "                orate = float(row[5])\n",
    "                print(str(orate))\n",
    "            if(row[5].find('G') != -1):\n",
    "                row[5] = row[5][:row[5].find('G')]\n",
    "                orate = float(row[5]) * 1000\n",
    "                print(str(orate))\n",
    "\n",
    "            rec_values[1].append(orate)\n",
    "        else:\n",
    "            if(row[3] != '' and row[5] != '' and row[5] != 'NA'):\n",
    "                if(row[3].find('M') != -1):\n",
    "                    row[3] = row[3][:row[3].find('M')]\n",
    "                    irate = float(row[3])\n",
    "                    print(str(irate))\n",
    "                if(row[3].find('G') != -1):\n",
    "                    row[3] = row[3][:row[3].find('G')]\n",
    "                    irate = float(row[3]) * 1000\n",
    "                    print(str(irate))\n",
    "\n",
    "                rec_values[0].append(irate)\n",
    "                if(row[5].find('M') != -1):\n",
    "                    row[5] = row[5][:row[5].find('M')]\n",
    "                    orate = float(row[3])\n",
    "                    print(str(orate))\n",
    "                if(row[5].find('G') != -1):\n",
    "                    row[5] = row[5][:row[5].find('G')]\n",
    "                    orate = float(row[5]) * 1000\n",
    "                    print(str(orate))\n",
    "\n",
    "                rec_values[1].append(orate)\n",
    "\n"
   ]
  },
  {
   "cell_type": "code",
   "execution_count": null,
   "metadata": {},
   "outputs": [],
   "source": [
    "def main():\n",
    "    i = 0\n",
    "    print(sys.argv[0] + ' ' + sys.argv[1])\n",
    "    try:\n",
    "        with open(sys.argv[1]) as csvfile:\n",
    "            readCSV = csv.reader(csvfile, delimiter = ',')\n",
    "            for row in readCSV:\n",
    "                if(i != 0):\n",
    "                    read_tput(row)\n",
    "                i += 1\n",
    "\n",
    "    except Exception as e:\n",
    "        print(\"Could not open file\" + e)\n"
   ]
  },
  {
   "cell_type": "code",
   "execution_count": null,
   "metadata": {},
   "outputs": [],
   "source": [
    "if __name__ == '__main__':\n",
    "    main()\n"
   ]
  }
 ],
 "metadata": {
  "kernelspec": {
   "display_name": "Python 3",
   "language": "python",
   "name": "python3"
  },
  "language_info": {
   "codemirror_mode": {
    "name": "ipython",
    "version": 3
   },
   "file_extension": ".py",
   "mimetype": "text/x-python",
   "name": "python",
   "nbconvert_exporter": "python",
   "pygments_lexer": "ipython3",
   "version": "3.7.3"
  }
 },
 "nbformat": 4,
 "nbformat_minor": 2
}
