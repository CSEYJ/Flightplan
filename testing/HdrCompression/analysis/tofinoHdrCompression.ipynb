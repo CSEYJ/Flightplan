{
 "cells": [
  {
   "cell_type": "code",
   "execution_count": 13,
   "metadata": {},
   "outputs": [],
   "source": [
    "from scapy.all import *\n",
    "from pprint import pprint\n",
    "import sys\n",
    "import numpy as np\n",
    "import os\n",
    "import dpkt\n",
    "\n",
    "KEYLEN=8\n",
    "\n",
    "VALUE_PKT_SIZE = 591\n",
    "GET_PKT_SIZE = 64\n",
    "MAX_LINE_RATE =10e9\n"
   ]
  },
  {
   "cell_type": "code",
   "execution_count": 11,
   "metadata": {},
   "outputs": [
    {
     "data": {
      "text/plain": [
       "'\\n    f = open(pcf, \\'rb\\')\\n    print(\"Reading {}\".format(pcf))\\n    pcap=dpkt.pcap.Reader(f)\\n    total_size = 0\\n    pkt_in = []\\n    pkt_out = []\\n    all_packets = []\\n    for ts, buf in pcap:\\n        try:\\n            eth=dpkt.ethernet.Ethernet(buf)\\n            ip=eth.data\\n            #TODO: Add a check to distinguish ingress and egress packets\\n            # If ingress, add to input array.\\n            # If egress, add to output array\\n            if type(ip) != dpkt.ip.IP:\\n                counters[\\'other\\'] += 1\\n                continue\\n            udp = ip.data\\n            spkt = udp.data\\n        except Exception as e:\\n            print(\"Exception parsing packet {} : {}\".format(buf, e))\\n            Ether(buf).show2()\\n            raise\\n\\n        if dst_mac_is_ts:\\n            x3, x2, x1 = struct.unpack(\"!HHH\", eth.dst)\\n            ts = float((x3 << 32) | (x2 << 16) | x1) * 1e-9\\n            dir = x3 | 0x01\\n            if dir:\\n                pkt_ingress.append(ts)\\n            else\\n                pkt_egress.append(ts)\\n             \\n    all_packets.append(pkt_ingress)\\n    all_packets.append(pkt_egress)\\n    print(counters[\\'other\\'])\\n    #return list of arrays for ingress and egress packets.\\n    return all_packets\\n    '"
      ]
     },
     "execution_count": 11,
     "metadata": {},
     "output_type": "execute_result"
    }
   ],
   "source": [
    "\"\"\"\n",
    "    f = open(pcf, 'rb')\n",
    "    print(\"Reading {}\".format(pcf))\n",
    "    pcap=dpkt.pcap.Reader(f)\n",
    "    total_size = 0\n",
    "    pkt_in = []\n",
    "    pkt_out = []\n",
    "    all_packets = []\n",
    "    for ts, buf in pcap:\n",
    "        try:\n",
    "            eth=dpkt.ethernet.Ethernet(buf)\n",
    "            ip=eth.data\n",
    "            #TODO: Add a check to distinguish ingress and egress packets\n",
    "            # If ingress, add to input array.\n",
    "            # If egress, add to output array\n",
    "            if type(ip) != dpkt.ip.IP:\n",
    "                counters['other'] += 1\n",
    "                continue\n",
    "            udp = ip.data\n",
    "            spkt = udp.data\n",
    "        except Exception as e:\n",
    "            print(\"Exception parsing packet {} : {}\".format(buf, e))\n",
    "            Ether(buf).show2()\n",
    "            raise\n",
    "\n",
    "        if dst_mac_is_ts:\n",
    "            x3, x2, x1 = struct.unpack(\"!HHH\", eth.dst)\n",
    "            ts = float((x3 << 32) | (x2 << 16) | x1) * 1e-9\n",
    "            dir = x3 | 0x01\n",
    "            if dir:\n",
    "                pkt_ingress.append(ts)\n",
    "            else\n",
    "                pkt_egress.append(ts)\n",
    "             \n",
    "    all_packets.append(pkt_ingress)\n",
    "    all_packets.append(pkt_egress)\n",
    "    print(counters['other'])\n",
    "    #return list of arrays for ingress and egress packets.\n",
    "    return all_packets\n",
    "    \"\"\""
   ]
  },
  {
   "cell_type": "code",
   "execution_count": 15,
   "metadata": {},
   "outputs": [],
   "source": [
    "def read_pcap(out_dir, dst_mac_is_ts = True, try_compare_counters = True):\n",
    "    \n",
    "    if try_compare_counters:\n",
    "        count_file = os.path.join(out_dir, 'counters_0.out')\n",
    "        for line in open(count_file):\n",
    "            if line.startswith('7/0'):\n",
    "                print(\"counters_0.out successfully opened\")\n",
    "                n_pkts_str = line.split()[-1]\n",
    "                n_start_pkts = int(n_pkts_str[:-1])\n",
    "        count_file = os.path.join(out_dir, 'counters_1.out')\n",
    "        for line in open(count_file):\n",
    "            if line.startswith('7/0'):\n",
    "                print(\"counters_1.out successfully opened\")\n",
    "                n_pkts_str = line.split()[-1]\n",
    "                n_end_pkts = int(n_pkts_str[:-1])   \n",
    "        n_expected_pkts = (n_end_pkts - n_start_pkts)\n",
    "        \n",
    "        print(\"Expecting {} packets\".format(n_expected_pkts))\n",
    "                \n",
    "#    pcf = os.path.join(out_dir, 'moongen', 'moongen.pcap')\n",
    "    \n",
    "    counters = {\n",
    "        'other': 0,\n",
    "    }\n",
    "\n",
    "\n",
    "    #return 1"
   ]
  },
  {
   "cell_type": "code",
   "execution_count": 17,
   "metadata": {},
   "outputs": [
    {
     "name": "stdout",
     "output_type": "stream",
     "text": [
      "counters_0.out successfully opened\n",
      "counters_1.out successfully opened\n",
      "Expecting 27320 packets\n"
     ]
    }
   ],
   "source": [
    "out_dir = \"/home/ncshy/P4Boosters/testing/HdrCompression/execution/test_output/result/result_5.00\"\n",
    "read_pcap(out_dir, True, True)"
   ]
  },
  {
   "cell_type": "code",
   "execution_count": null,
   "metadata": {},
   "outputs": [],
   "source": []
  }
 ],
 "metadata": {
  "kernelspec": {
   "display_name": "Python 3",
   "language": "python",
   "name": "python3"
  },
  "language_info": {
   "codemirror_mode": {
    "name": "ipython",
    "version": 3
   },
   "file_extension": ".py",
   "mimetype": "text/x-python",
   "name": "python",
   "nbconvert_exporter": "python",
   "pygments_lexer": "ipython3",
   "version": "3.7.1"
  }
 },
 "nbformat": 4,
 "nbformat_minor": 2
}
