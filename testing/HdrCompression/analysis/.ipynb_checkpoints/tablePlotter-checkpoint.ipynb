{
 "cells": [
  {
   "cell_type": "code",
   "execution_count": 61,
   "metadata": {},
   "outputs": [],
   "source": [
    "import matplotlib.pyplot as plt\n",
    "import os"
   ]
  },
  {
   "cell_type": "code",
   "execution_count": 88,
   "metadata": {},
   "outputs": [],
   "source": [
    "def plotter(recorded_values, save_file):\n",
    "    plt.figure()\n",
    "    print(recorded_values)\n",
    "    length = len(recorded_values)\n",
    "    print(length)\n",
    "    i = 0\n",
    "    #plt.plot('xlabel', 'ylabel', data=recorded_values)\n",
    "    plt.plot(recorded_values[0], recorded_values[1], 'bo--')\n",
    "    plt.xlabel('input rate(Mbps)')\n",
    "    plt.ylabel('Output rate(Mbps)')\n",
    "    plt.title('FPGA Encoder Throughput')\n",
    "    plt.savefig(save_file)\n",
    "    \n",
    "    "
   ]
  },
  {
   "cell_type": "code",
   "execution_count": 89,
   "metadata": {},
   "outputs": [],
   "source": [
    "def main():\n",
    "    print(\"Enter the number of plot points: \")\n",
    "    str_points = input()\n",
    "    \n",
    "    num_points = int(str_points)\n",
    "    recorded_values = [[],[]]\n",
    "    print(\"Enter the name of the save file:\")\n",
    "    save_file = input()\n",
    "    for i in range(num_points):\n",
    "        print(\"Enter the input throughput rate:\")\n",
    "        line_rate = input()\n",
    "        recorded_values[0].append(float(line_rate))\n",
    "        print(\"Enter the recorded value:\")\n",
    "        value = input()\n",
    "        recorded_values[1].append(float(value))\n",
    "        \n",
    "    plotter(recorded_values, save_file)"
   ]
  },
  {
   "cell_type": "code",
   "execution_count": 90,
   "metadata": {},
   "outputs": [
    {
     "name": "stdout",
     "output_type": "stream",
     "text": [
      "Enter the number of plot points: \n",
      "4\n",
      "Enter the name of the save file:\n",
      "fpga-encoder-tput.png\n",
      "Enter the input throughput rate:\n",
      "97.54\n",
      "Enter the recorded value:\n",
      "117.05\n",
      "Enter the input throughput rate:\n",
      "970\n",
      "Enter the recorded value:\n",
      "1167\n",
      "Enter the input throughput rate:\n",
      "4860\n",
      "Enter the recorded value:\n",
      "5840\n",
      "Enter the input throughput rate:\n",
      "7520\n",
      "Enter the recorded value:\n",
      "9020\n",
      "[[97.54, 970.0, 4860.0, 7520.0], [117.05, 1167.0, 5840.0, 9020.0]]\n",
      "2\n"
     ]
    },
    {
     "data": {
      "image/png": "[encoded data removed]",
      "text/plain": [
       "<Figure size 432x288 with 1 Axes>"
      ]
     },
     "metadata": {
      "needs_background": "light"
     },
     "output_type": "display_data"
    }
   ],
   "source": [
    "main()"
   ]
  },
  {
   "cell_type": "markdown",
   "metadata": {},
   "source": [
    "## "
   ]
  },
  {
   "cell_type": "code",
   "execution_count": null,
   "metadata": {},
   "outputs": [],
   "source": []
  }
 ],
 "metadata": {
  "kernelspec": {
   "display_name": "Python 3",
   "language": "python",
   "name": "python3"
  },
  "language_info": {
   "codemirror_mode": {
    "name": "ipython",
    "version": 3
   },
   "file_extension": ".py",
   "mimetype": "text/x-python",
   "name": "python",
   "nbconvert_exporter": "python",
   "pygments_lexer": "ipython3",
   "version": "3.7.3"
  }
 },
 "nbformat": 4,
 "nbformat_minor": 2
}
